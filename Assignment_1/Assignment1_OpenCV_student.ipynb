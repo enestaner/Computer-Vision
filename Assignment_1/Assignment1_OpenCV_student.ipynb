{
 "cells": [
  {
   "cell_type": "markdown",
   "id": "d3bf5581",
   "metadata": {},
   "source": [
    "# Assignment 1: Image Manipulation and Canny Edge Detection\n",
    "\n",
    "---\n",
    "\n",
    "Dr.-Ing. Antje Muntzinger, Hochschule für Technik Stuttgart\n",
    "\n",
    "antje.muntzinger@hft-stuttgart.de\n",
    "\n",
    "---\n",
    "\n",
    "In this notebook, we practice some basic image manipulation techniques in OpenCV including Canny edge detection. These are the foundation of later computer vision applications."
   ]
  },
  {
   "cell_type": "code",
   "execution_count": null,
   "id": "3eeabac4",
   "metadata": {},
   "outputs": [],
   "source": [
    "# install required packages specified in pipfile\n",
    "!pipenv install"
   ]
  },
  {
   "cell_type": "code",
   "execution_count": null,
   "id": "5b6ac3b0-d37a-425b-b6df-3b4c747cba41",
   "metadata": {},
   "outputs": [],
   "source": [
    "# imports\n",
    "from matplotlib import pyplot as plt\n",
    "%matplotlib inline\n",
    "\n",
    "import numpy as np \n",
    "import cv2"
   ]
  },
  {
   "cell_type": "markdown",
   "id": "23473297",
   "metadata": {},
   "source": [
    "Task 1: Basic Image Manipulation in OpenCV\n",
    "=\n",
    "\n",
    "**TODO**: 1a) Load a color image of your choice, preferably a picture you took yourself. Convert it to a color format of your choice, and display it. **(1.5 points)**"
   ]
  },
  {
   "cell_type": "code",
   "execution_count": null,
   "id": "27450eea-9ccb-4490-b9dd-6eb15cbdc3df",
   "metadata": {},
   "outputs": [],
   "source": [
    "##### TODO: YOUR CODE GOES HERE\n"
   ]
  },
  {
   "cell_type": "markdown",
   "id": "b0bef9cc",
   "metadata": {},
   "source": [
    "**TODO**: 1b) Color the 10th pixel row of the image in red. Plot the upper left 500x500 pixel image cutout to verify your result. **(2 points)** \n",
    "\n",
    "Hint: Indexing starts at 0 in Python! Remember the image origin is in the upper left image corner."
   ]
  },
  {
   "cell_type": "code",
   "execution_count": null,
   "id": "cac8e232",
   "metadata": {},
   "outputs": [],
   "source": [
    "##### TODO: YOUR CODE GOES HERE\n"
   ]
  },
  {
   "cell_type": "markdown",
   "id": "0281fe56",
   "metadata": {},
   "source": [
    "**TODO**: 1c) Print the color values of the rightmost Pixel in the 9th row, as well as the color values of the leftmost Pixel in the 10th row. **(2 points)** "
   ]
  },
  {
   "cell_type": "code",
   "execution_count": null,
   "id": "2e1278b9",
   "metadata": {},
   "outputs": [],
   "source": [
    "##### TODO: YOUR CODE GOES HERE\n"
   ]
  },
  {
   "cell_type": "markdown",
   "id": "974bd26f",
   "metadata": {},
   "source": [
    "**TODO**: 1d) Flatten the image, i.e., convert it from the 2D array to a 1D array. Find at least two different commands that achieve the desired result. Check your output with `shape`. **(3 points)**"
   ]
  },
  {
   "cell_type": "code",
   "execution_count": null,
   "id": "8691ce75-ff19-4f12-aff5-2265126386ab",
   "metadata": {},
   "outputs": [],
   "source": [
    "##### TODO: YOUR CODE GOES HERE\n"
   ]
  },
  {
   "cell_type": "markdown",
   "id": "e162f661",
   "metadata": {},
   "source": [
    "**TODO**: 1e) As before, print the color values of the rightmost Pixel in the 9th row, as well as the color values of the leftmost Pixel in the 10th row, but use the flattened image now. Verify that the result is the same as before. **(2 points)**"
   ]
  },
  {
   "cell_type": "code",
   "execution_count": null,
   "id": "659f6501",
   "metadata": {},
   "outputs": [],
   "source": [
    "##### TODO: YOUR CODE GOES HERE\n"
   ]
  },
  {
   "cell_type": "markdown",
   "id": "92a537dd",
   "metadata": {},
   "source": [
    "**TODO**: 1f) Split the three color channels and display them separately. Can you see from the plotted images which color channel is displayed in which image (without looking at the code), or do the three channels not differ much? Write your answer in the markdown cell below the code. **(2 points)**"
   ]
  },
  {
   "cell_type": "code",
   "execution_count": null,
   "id": "b6f1b652",
   "metadata": {},
   "outputs": [],
   "source": [
    "##### TODO: YOUR CODE GOES HERE\n"
   ]
  },
  {
   "cell_type": "markdown",
   "id": "82f3380d",
   "metadata": {},
   "source": [
    "**YOUR ANSWER**: "
   ]
  },
  {
   "cell_type": "markdown",
   "id": "9d161f11",
   "metadata": {},
   "source": [
    "Task 2: Edge Detection\n",
    "=\n",
    "\n",
    "**TODO**: 2a) Choose a part of the image that you find interesting for later corner and edge detection. Store the cutout in a new grayscale image. **(1 point)**"
   ]
  },
  {
   "cell_type": "code",
   "execution_count": null,
   "id": "6f35baf2",
   "metadata": {},
   "outputs": [],
   "source": [
    "##### TODO: YOUR CODE GOES HERE\n"
   ]
  },
  {
   "cell_type": "markdown",
   "id": "b8bed57c",
   "metadata": {},
   "source": [
    "**TODO**: 2b) Find a part of the cutout that you think might be difficult to detect edges in with Canny. Mark this part in the grayscale cutout with a red square. Write a short explanation why this could be difficult below. **(2 points)**\n",
    "\n",
    "Hint: Note that you cannot plot color into a grayscale image. One option is to convert the grayscale image to RGB first, using `COLOR_GRAY2RGB`."
   ]
  },
  {
   "cell_type": "code",
   "execution_count": null,
   "id": "8d3f9c99",
   "metadata": {},
   "outputs": [],
   "source": [
    "##### TODO: YOUR CODE GOES HERE\n"
   ]
  },
  {
   "cell_type": "markdown",
   "id": "941efe6d",
   "metadata": {},
   "source": [
    "**YOUR ANSWER**: "
   ]
  },
  {
   "cell_type": "markdown",
   "id": "6ba953ef",
   "metadata": {},
   "source": [
    "**TODO**: 2c) Resize the gray cutout to 1/4th of the original size, keeping the aspect ratio. Plot both grayscale images next to each other using Matplotlib's `subplots`."
   ]
  },
  {
   "cell_type": "code",
   "execution_count": null,
   "id": "09bb2a68",
   "metadata": {},
   "outputs": [],
   "source": [
    "##### TODO: YOUR CODE GOES HERE\n"
   ]
  },
  {
   "cell_type": "markdown",
   "id": "16b4247c",
   "metadata": {},
   "source": [
    "**TODO**: 2d) Apply Gaussian blur with a kernel of size 9 to the resized image and plot the result. **(1 point)**"
   ]
  },
  {
   "cell_type": "code",
   "execution_count": null,
   "id": "6b46c66a",
   "metadata": {},
   "outputs": [],
   "source": [
    "##### TODO: YOUR CODE GOES HERE\n"
   ]
  },
  {
   "cell_type": "markdown",
   "id": "0ab4d6af",
   "metadata": {},
   "source": [
    "**TODO**: 2e) Detect the edges in the blurred cutout using Canny edge detector. Adapt the Canny thresholds for an optimal result. Plot the edges in blue into the grayscale cutout. **(3 points)** "
   ]
  },
  {
   "cell_type": "code",
   "execution_count": null,
   "id": "46bc1b79",
   "metadata": {},
   "outputs": [],
   "source": [
    "##### TODO: YOUR CODE GOES HERE\n"
   ]
  },
  {
   "cell_type": "markdown",
   "id": "f64b03db",
   "metadata": {},
   "source": [
    "**TODO**: 2f) Check if your prediction of difficulty was correct. Do you see a) real edges that were missed by Canny (false negatives) or b) detected edges that are not there in reality (false positives)? Try to experiment with the Canny thresholds and solve these difficulties. How did you try to solve the difficulties? Write your answer below the code. **(1.5 points)**"
   ]
  },
  {
   "cell_type": "markdown",
   "id": "81731c66",
   "metadata": {},
   "source": [
    "**YOUR ANSWER**: "
   ]
  },
  {
   "cell_type": "markdown",
   "id": "fc83daaf",
   "metadata": {},
   "source": [
    "Well done, you are now able to apply basic image manipulation techniques as well as Canny edge detection to images in OpenCV! "
   ]
  },
  {
   "cell_type": "markdown",
   "id": "7d70ba95",
   "metadata": {},
   "source": [
    "Task 3: Theory Questions\n",
    "="
   ]
  },
  {
   "cell_type": "markdown",
   "id": "a5517476",
   "metadata": {},
   "source": [
    "**TODO**: 3a) What is the problem of applying image derivatives for edge detection in noisy images? What is a possible solution to that problem? Can you give an example in which you often get noise when taking a photo? **(3 points)**"
   ]
  },
  {
   "cell_type": "markdown",
   "id": "49e75ae4",
   "metadata": {},
   "source": [
    "**YOUR ANSWER**: "
   ]
  },
  {
   "cell_type": "markdown",
   "id": "886d3e09",
   "metadata": {},
   "source": [
    "**TODO**: 3b) You are given a 3×3 pixel input image $\n",
    "\\begin{array}{|ccc|}\n",
    "\\hline\n",
    " 1 & 2 & 3  \\\\ \n",
    " 4 & 5 & 6  \\\\ \n",
    " 7 & 8 & 9  \\\\ \n",
    "\\hline   \n",
    "\\end{array}$\n",
    "and a 3×3 pixel filter $\\begin{array}{|ccc|}\n",
    "\\hline\n",
    " -1 & 0 & 1  \\\\ \n",
    " -1 & 0 & 1  \\\\ \n",
    " -1 & 0 & 1  \\\\ \n",
    "\\hline   \n",
    "\\end{array}$. Compute the 3 × 3 pixel result image of the correlation of the filter with the input image. All pixels outside the input image are padded with zeros. **(4.5 points)**"
   ]
  },
  {
   "cell_type": "markdown",
   "id": "a7564f9b",
   "metadata": {},
   "source": [
    "**YOUR ANSWER**: \n"
   ]
  },
  {
   "cell_type": "markdown",
   "id": "aacd80f3",
   "metadata": {},
   "source": [
    "**TODO**: 3c) What patterns does this special filter respond to? How can you see this in the result from 3b)? **(2 points)**"
   ]
  },
  {
   "cell_type": "markdown",
   "id": "ceccfc58",
   "metadata": {},
   "source": [
    "**YOUR ANSWER**: "
   ]
  },
  {
   "cell_type": "markdown",
   "id": "e87a19c7",
   "metadata": {},
   "source": [
    "**TODO**: 3d) Please calculate the result using the settings from task 3b), but with convolution instead of correlation. **(4.5 points)**"
   ]
  },
  {
   "cell_type": "markdown",
   "id": "7e8502b5",
   "metadata": {},
   "source": [
    "**YOUR ANSWER**: \n"
   ]
  }
 ],
 "metadata": {
  "kernelspec": {
   "display_name": "Python 3 (ipykernel)",
   "language": "python",
   "name": "python3"
  },
  "language_info": {
   "codemirror_mode": {
    "name": "ipython",
    "version": 3
   },
   "file_extension": ".py",
   "mimetype": "text/x-python",
   "name": "python",
   "nbconvert_exporter": "python",
   "pygments_lexer": "ipython3",
   "version": "3.11.7"
  }
 },
 "nbformat": 4,
 "nbformat_minor": 5
}
